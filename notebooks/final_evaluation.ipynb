{
  "cells": [
    {
      "cell_type": "code",
      "source": [
        "!git clone -b bg-project-refactoring https://github.com/Bartosz7/ISR-2024W-SudokuSolver.git"
      ],
      "metadata": {
        "id": "S9LMy16tq7rQ",
        "outputId": "e6254b12-0ccc-4ae0-d2c5-a85db12fc08b",
        "colab": {
          "base_uri": "https://localhost:8080/"
        }
      },
      "execution_count": 7,
      "outputs": [
        {
          "output_type": "stream",
          "name": "stdout",
          "text": [
            "Cloning into 'ISR-2024W-SudokuSolver'...\n",
            "remote: Enumerating objects: 90, done.\u001b[K\n",
            "remote: Counting objects: 100% (90/90), done.\u001b[K\n",
            "remote: Compressing objects: 100% (59/59), done.\u001b[K\n",
            "remote: Total 90 (delta 32), reused 82 (delta 26), pack-reused 0 (from 0)\u001b[K\n",
            "Receiving objects: 100% (90/90), 39.42 MiB | 20.11 MiB/s, done.\n",
            "Resolving deltas: 100% (32/32), done.\n"
          ]
        }
      ]
    },
    {
      "cell_type": "markdown",
      "metadata": {
        "id": "jQYbsm4_q1ms"
      },
      "source": [
        "# Final Evaluation"
      ]
    },
    {
      "cell_type": "code",
      "execution_count": 58,
      "metadata": {
        "id": "5zSnx3M5q1mu",
        "outputId": "877b1027-1744-4aac-b194-84b97a2a23f7",
        "colab": {
          "base_uri": "https://localhost:8080/",
          "height": 173
        }
      },
      "outputs": [
        {
          "output_type": "error",
          "ename": "NameError",
          "evalue": "name 'solve_sudoku_from_image' is not defined",
          "traceback": [
            "\u001b[0;31m---------------------------------------------------------------------------\u001b[0m",
            "\u001b[0;31mNameError\u001b[0m                                 Traceback (most recent call last)",
            "\u001b[0;32m<ipython-input-58-62f38a8c7ab1>\u001b[0m in \u001b[0;36m<cell line: 0>\u001b[0;34m()\u001b[0m\n\u001b[1;32m     12\u001b[0m \u001b[0;32mfrom\u001b[0m \u001b[0msudoku_solve_algoithm\u001b[0m \u001b[0;32mimport\u001b[0m \u001b[0msolve\u001b[0m\u001b[0;34m,\u001b[0m \u001b[0mprint_board\u001b[0m\u001b[0;34m\u001b[0m\u001b[0;34m\u001b[0m\u001b[0m\n\u001b[1;32m     13\u001b[0m \u001b[0;34m\u001b[0m\u001b[0m\n\u001b[0;32m---> 14\u001b[0;31m \u001b[0msolve_sudoku_from_image\u001b[0m\u001b[0;34m(\u001b[0m\u001b[0mIMAGE_PATH\u001b[0m\u001b[0;34m)\u001b[0m\u001b[0;34m\u001b[0m\u001b[0;34m\u001b[0m\u001b[0m\n\u001b[0m",
            "\u001b[0;31mNameError\u001b[0m: name 'solve_sudoku_from_image' is not defined"
          ]
        }
      ],
      "source": [
        "import os\n",
        "import sys\n",
        "\n",
        "# Change to project directory\n",
        "os.chdir('/content/ISR-2024W-SudokuSolver')\n",
        "\n",
        "src_path = os.path.join(os.getcwd(), 'src')\n",
        "if src_path not in sys.path:\n",
        "    sys.path.insert(0, src_path)\n",
        "\n",
        "from predict_digit import load_model, predict_digit\n",
        "from sudoku_solve_algoithm import solve, print_board\n",
        "\n",
        "solve_sudoku_from_image(IMAGE_PATH)"
      ]
    },
    {
      "cell_type": "markdown",
      "metadata": {
        "id": "8EVrdNMSq1mu"
      },
      "source": [
        "### Manual Run"
      ]
    },
    {
      "cell_type": "markdown",
      "metadata": {
        "id": "fWkYBBA-q1mu"
      },
      "source": [
        "1. Select image"
      ]
    },
    {
      "cell_type": "code",
      "execution_count": 47,
      "metadata": {
        "id": "yA1bT2Xhq1mu"
      },
      "outputs": [],
      "source": [
        "IMAGE_PATH = \"/content/Screenshot 2025-01-26 at 18.33.47.png\""
      ]
    },
    {
      "cell_type": "markdown",
      "metadata": {
        "id": "QOmeTPEKq1mu"
      },
      "source": [
        "2. Run script"
      ]
    },
    {
      "cell_type": "code",
      "source": [
        "from predict_digit import load_model, predict_digit"
      ],
      "metadata": {
        "id": "GteQ87Et266s"
      },
      "execution_count": 50,
      "outputs": []
    },
    {
      "cell_type": "code",
      "source": [
        "from solve_sudoku_from_image import solve_sudoku_from_image"
      ],
      "metadata": {
        "id": "9yMW5O7B3bt8",
        "outputId": "61e5e124-3c85-4ce8-c778-9f117c93028c",
        "colab": {
          "base_uri": "https://localhost:8080/",
          "height": 446
        }
      },
      "execution_count": 51,
      "outputs": [
        {
          "output_type": "error",
          "ename": "ImportError",
          "evalue": "cannot import name 'load_model' from 'src.predict_digit' (/content/ISR-2024W-SudokuSolver/src/predict_digit.py)",
          "traceback": [
            "\u001b[0;31m---------------------------------------------------------------------------\u001b[0m",
            "\u001b[0;31mImportError\u001b[0m                               Traceback (most recent call last)",
            "\u001b[0;32m<ipython-input-51-082030d26c69>\u001b[0m in \u001b[0;36m<cell line: 0>\u001b[0;34m()\u001b[0m\n\u001b[0;32m----> 1\u001b[0;31m \u001b[0;32mfrom\u001b[0m \u001b[0msolve_sudoku_from_image\u001b[0m \u001b[0;32mimport\u001b[0m \u001b[0msolve_sudoku_from_image\u001b[0m\u001b[0;34m\u001b[0m\u001b[0;34m\u001b[0m\u001b[0m\n\u001b[0m",
            "\u001b[0;32m/content/ISR-2024W-SudokuSolver/src/solve_sudoku_from_image.py\u001b[0m in \u001b[0;36m<module>\u001b[0;34m\u001b[0m\n\u001b[1;32m      3\u001b[0m \u001b[0;32mimport\u001b[0m \u001b[0mos\u001b[0m\u001b[0;34m\u001b[0m\u001b[0;34m\u001b[0m\u001b[0m\n\u001b[1;32m      4\u001b[0m \u001b[0;32mimport\u001b[0m \u001b[0mfire\u001b[0m\u001b[0;34m\u001b[0m\u001b[0;34m\u001b[0m\u001b[0m\n\u001b[0;32m----> 5\u001b[0;31m \u001b[0;32mfrom\u001b[0m \u001b[0msrc\u001b[0m\u001b[0;34m.\u001b[0m\u001b[0mpredict_digit\u001b[0m \u001b[0;32mimport\u001b[0m \u001b[0mload_model\u001b[0m\u001b[0;34m,\u001b[0m \u001b[0mpredict_digit\u001b[0m\u001b[0;34m\u001b[0m\u001b[0;34m\u001b[0m\u001b[0m\n\u001b[0m\u001b[1;32m      6\u001b[0m \u001b[0;32mfrom\u001b[0m \u001b[0msrc\u001b[0m\u001b[0;34m.\u001b[0m\u001b[0msudoku_solve_algoithm\u001b[0m \u001b[0;32mimport\u001b[0m \u001b[0msolve\u001b[0m\u001b[0;34m,\u001b[0m \u001b[0mprint_board\u001b[0m\u001b[0;34m\u001b[0m\u001b[0;34m\u001b[0m\u001b[0m\n\u001b[1;32m      7\u001b[0m \u001b[0;34m\u001b[0m\u001b[0m\n",
            "\u001b[0;31mImportError\u001b[0m: cannot import name 'load_model' from 'src.predict_digit' (/content/ISR-2024W-SudokuSolver/src/predict_digit.py)",
            "",
            "\u001b[0;31m---------------------------------------------------------------------------\u001b[0;32m\nNOTE: If your import is failing due to a missing package, you can\nmanually install dependencies using either !pip or !apt.\n\nTo view examples of installing some common dependencies, click the\n\"Open Examples\" button below.\n\u001b[0;31m---------------------------------------------------------------------------\u001b[0m\n"
          ],
          "errorDetails": {
            "actions": [
              {
                "action": "open_url",
                "actionText": "Open Examples",
                "url": "/notebooks/snippets/importing_libraries.ipynb"
              }
            ]
          }
        }
      ]
    },
    {
      "cell_type": "code",
      "execution_count": 57,
      "metadata": {
        "id": "4JLsJCfQq1mv",
        "outputId": "c2c02508-62da-4680-f37d-dec464d3ff6d",
        "colab": {
          "base_uri": "https://localhost:8080/",
          "height": 173
        }
      },
      "outputs": [
        {
          "output_type": "error",
          "ename": "NameError",
          "evalue": "name 'solve_sudoku_from_image' is not defined",
          "traceback": [
            "\u001b[0;31m---------------------------------------------------------------------------\u001b[0m",
            "\u001b[0;31mNameError\u001b[0m                                 Traceback (most recent call last)",
            "\u001b[0;32m<ipython-input-57-9e1efcc379cd>\u001b[0m in \u001b[0;36m<cell line: 0>\u001b[0;34m()\u001b[0m\n\u001b[0;32m----> 1\u001b[0;31m \u001b[0mboard\u001b[0m \u001b[0;34m=\u001b[0m \u001b[0msolve_sudoku_from_image\u001b[0m\u001b[0;34m(\u001b[0m\u001b[0mIMAGE_PATH\u001b[0m\u001b[0;34m)\u001b[0m\u001b[0;34m\u001b[0m\u001b[0;34m\u001b[0m\u001b[0m\n\u001b[0m\u001b[1;32m      2\u001b[0m \u001b[0mprint\u001b[0m\u001b[0;34m(\u001b[0m\u001b[0;34m\"Detected Sudoku board:\"\u001b[0m\u001b[0;34m)\u001b[0m\u001b[0;34m\u001b[0m\u001b[0;34m\u001b[0m\u001b[0m\n\u001b[1;32m      3\u001b[0m \u001b[0mprint\u001b[0m\u001b[0;34m(\u001b[0m\u001b[0mboard\u001b[0m\u001b[0;34m)\u001b[0m\u001b[0;34m\u001b[0m\u001b[0;34m\u001b[0m\u001b[0m\n",
            "\u001b[0;31mNameError\u001b[0m: name 'solve_sudoku_from_image' is not defined"
          ]
        }
      ],
      "source": [
        "board = solve_sudoku_from_image(IMAGE_PATH)\n",
        "print(\"Detected Sudoku board:\")\n",
        "print(board)"
      ]
    },
    {
      "cell_type": "code",
      "source": [
        "import os\n",
        "\n",
        "# Print current structure\n",
        "print(\"Current directory:\", os.getcwd())\n",
        "print(\"\\nDirectory contents:\", os.listdir())\n",
        "\n",
        "# Check src directory\n",
        "if os.path.exists('src'):\n",
        "    print(\"\\nsrc directory contents:\", os.listdir('src'))\n",
        "\n",
        "# Check models directory\n",
        "if os.path.exists('models'):\n",
        "    print(\"\\nmodels directory contents:\", os.listdir('models'))\n",
        "\n",
        "# Check if the model file exists\n",
        "model_path = \"models/final_model_0_3_with_augmented.pth\"\n",
        "print(\"\\nModel file exists:\", os.path.exists(model_path))"
      ],
      "metadata": {
        "id": "o91x7okw5QqB",
        "outputId": "ebaa5996-fa0f-4954-9b2f-3f9ff70b3565",
        "colab": {
          "base_uri": "https://localhost:8080/"
        }
      },
      "execution_count": 59,
      "outputs": [
        {
          "output_type": "stream",
          "name": "stdout",
          "text": [
            "Current directory: /content/ISR-2024W-SudokuSolver\n",
            "\n",
            "Directory contents: ['models', '.gitignore', 'src', 'README.md', 'notebooks', '.git', 'scripts', 'tests']\n",
            "\n",
            "src directory contents: ['__pycache__', 'predict_digit_easy_ocr.py', 'evaluate_recognition.py', '.ipynb_checkpoints', 'img_processing.py', 'solve_sudoku_from_image.py', 'sudoku_solve_algoithm.py', '__init__.py', 'predict_digit.py', 'model.py']\n",
            "\n",
            "models directory contents: ['digit1.pth', 'final_model_0_3_with_augmented.pth', 'digit1500_grey.pth']\n",
            "\n",
            "Model file exists: True\n"
          ]
        }
      ]
    },
    {
      "cell_type": "code",
      "source": [
        "# First make sure we're in the right directory\n",
        "%cd /content/ISR-2024W-SudokuSolver\n",
        "\n",
        "# Run the script\n",
        "!python run_sudoku_solver.py"
      ],
      "metadata": {
        "id": "6Yy_J-Lf5rxI",
        "outputId": "8f24e6a3-c3b9-4db9-b8a6-5147245eb3c2",
        "colab": {
          "base_uri": "https://localhost:8080/"
        }
      },
      "execution_count": 62,
      "outputs": [
        {
          "output_type": "stream",
          "name": "stdout",
          "text": [
            "/content\n",
            "Traceback (most recent call last):\n",
            "  File \"/content/ISR-2024W-SudokuSolver/run_sudoku_solver.py\", line 10, in <module>\n",
            "    from src.solve_sudoku_from_image import solve_sudoku_from_image\n",
            "  File \"/content/ISR-2024W-SudokuSolver/src/solve_sudoku_from_image.py\", line 5, in <module>\n",
            "    from src.predict_digit import load_model, predict_digit\n",
            "  File \"/content/ISR-2024W-SudokuSolver/src/predict_digit.py\", line 6, in <module>\n",
            "    from src.predict_digit import load_model, predict_digit\n",
            "ImportError: cannot import name 'load_model' from partially initialized module 'src.predict_digit' (most likely due to a circular import) (/content/ISR-2024W-SudokuSolver/src/predict_digit.py)\n"
          ]
        }
      ]
    },
    {
      "cell_type": "markdown",
      "metadata": {
        "id": "22jLjPi4q1mv"
      },
      "source": [
        "### Tests"
      ]
    },
    {
      "cell_type": "code",
      "execution_count": null,
      "metadata": {
        "id": "Rb_oUAR2q1mv"
      },
      "outputs": [],
      "source": [
        "from src.evaluate_recognition import evaluate_recognition"
      ]
    },
    {
      "cell_type": "code",
      "execution_count": null,
      "metadata": {
        "id": "YH4Mbbrvq1mv",
        "outputId": "bf230833-f3eb-455d-e6ff-0ec181b91a86"
      },
      "outputs": [
        {
          "name": "stderr",
          "output_type": "stream",
          "text": [
            "Evaluating Sudoku Boards: 100%|██████████| 560/560 [06:33<00:00,  1.42it/s]\n"
          ]
        },
        {
          "name": "stdout",
          "output_type": "stream",
          "text": [
            "Evaluation Metrics:\n",
            "total_boards: 560\n",
            "fully_correct_boards: 0\n",
            "avg_recognition_per_board: 0.4980599647266314\n",
            "overall_digit_accuracy: 0.4980599647266314\n",
            "total_errors: 22768\n",
            "error_rate: 0.5019400352733686\n"
          ]
        }
      ],
      "source": [
        "dataset_dir = \"../data/sudoku_dataset\"\n",
        "metrics = evaluate_recognition(\n",
        "    dataset_dir=dataset_dir,\n",
        "    read_recognized_func=solve_sudoku_from_image\n",
        ")\n",
        "print(\"Evaluation Metrics:\")\n",
        "for metric, value in metrics.items():\n",
        "    print(f\"{metric}: {value}\")"
      ]
    },
    {
      "cell_type": "code",
      "execution_count": null,
      "metadata": {
        "id": "DUa46r8sq1mw"
      },
      "outputs": [],
      "source": []
    }
  ],
  "metadata": {
    "kernelspec": {
      "display_name": ".venv",
      "language": "python",
      "name": "python3"
    },
    "language_info": {
      "codemirror_mode": {
        "name": "ipython",
        "version": 3
      },
      "file_extension": ".py",
      "mimetype": "text/x-python",
      "name": "python",
      "nbconvert_exporter": "python",
      "pygments_lexer": "ipython3",
      "version": "3.11.6"
    },
    "colab": {
      "provenance": []
    }
  },
  "nbformat": 4,
  "nbformat_minor": 0
}